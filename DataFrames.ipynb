{
 "cells": [
  {
   "cell_type": "code",
   "execution_count": 9,
   "id": "19a04a6c-6825-4cb8-b510-1807bab2aa26",
   "metadata": {},
   "outputs": [],
   "source": [
    "import pandas as pd"
   ]
  },
  {
   "cell_type": "code",
   "execution_count": 10,
   "id": "71bba46c-1e69-400a-899f-73325e98ef1a",
   "metadata": {},
   "outputs": [],
   "source": [
    "#Cria um dicionario com autores, preços e titulos\n",
    "dictionary = {'Autores': ['Rick Riordan', 'J.R.R. Tolkien', 'Rick Riordan', 'Machado de Assis'],\n",
    "              'Titulos': ['O Ladrão de Raios', 'A Sociedade do Anel', 'Mar de Monstros', 'Memórias Postumas de Brás Cubas'],\n",
    "              'Preços': [41.2, 35.7, 39.5, 40.5]}"
   ]
  },
  {
   "cell_type": "code",
   "execution_count": 11,
   "id": "d94ce8b7-22ee-4cff-8d74-20bf87090b43",
   "metadata": {},
   "outputs": [],
   "source": [
    "## DataFrames\n",
    "df = pd.DataFrame(dictionary)"
   ]
  },
  {
   "cell_type": "code",
   "execution_count": 12,
   "id": "f014897b-3a51-41d7-87c0-86ab2ab78bab",
   "metadata": {},
   "outputs": [
    {
     "data": {
      "text/html": [
       "<div>\n",
       "<style scoped>\n",
       "    .dataframe tbody tr th:only-of-type {\n",
       "        vertical-align: middle;\n",
       "    }\n",
       "\n",
       "    .dataframe tbody tr th {\n",
       "        vertical-align: top;\n",
       "    }\n",
       "\n",
       "    .dataframe thead th {\n",
       "        text-align: right;\n",
       "    }\n",
       "</style>\n",
       "<table border=\"1\" class=\"dataframe\">\n",
       "  <thead>\n",
       "    <tr style=\"text-align: right;\">\n",
       "      <th></th>\n",
       "      <th>Autores</th>\n",
       "      <th>Titulos</th>\n",
       "      <th>Preços</th>\n",
       "    </tr>\n",
       "  </thead>\n",
       "  <tbody>\n",
       "    <tr>\n",
       "      <th>0</th>\n",
       "      <td>Rick Riordan</td>\n",
       "      <td>O Ladrão de Raios</td>\n",
       "      <td>41.2</td>\n",
       "    </tr>\n",
       "    <tr>\n",
       "      <th>1</th>\n",
       "      <td>J.R.R. Tolkien</td>\n",
       "      <td>A Sociedade do Anel</td>\n",
       "      <td>35.7</td>\n",
       "    </tr>\n",
       "    <tr>\n",
       "      <th>2</th>\n",
       "      <td>Rick Riordan</td>\n",
       "      <td>Mar de Monstros</td>\n",
       "      <td>39.5</td>\n",
       "    </tr>\n",
       "    <tr>\n",
       "      <th>3</th>\n",
       "      <td>Machado de Assis</td>\n",
       "      <td>Memórias Postumas de Brás Cubas</td>\n",
       "      <td>40.5</td>\n",
       "    </tr>\n",
       "  </tbody>\n",
       "</table>\n",
       "</div>"
      ],
      "text/plain": [
       "            Autores                          Titulos  Preços\n",
       "0      Rick Riordan                O Ladrão de Raios    41.2\n",
       "1    J.R.R. Tolkien              A Sociedade do Anel    35.7\n",
       "2      Rick Riordan                  Mar de Monstros    39.5\n",
       "3  Machado de Assis  Memórias Postumas de Brás Cubas    40.5"
      ]
     },
     "execution_count": 12,
     "metadata": {},
     "output_type": "execute_result"
    }
   ],
   "source": [
    "df"
   ]
  },
  {
   "cell_type": "code",
   "execution_count": 13,
   "id": "250c122f-9ad5-41d9-b1d5-1e20d0c82fcc",
   "metadata": {},
   "outputs": [
    {
     "data": {
      "text/plain": [
       "'J.R.R. Tolkien'"
      ]
     },
     "execution_count": 13,
     "metadata": {},
     "output_type": "execute_result"
    }
   ],
   "source": [
    "df['Autores'][1]"
   ]
  },
  {
   "cell_type": "code",
   "execution_count": 14,
   "id": "27b31c2e-755e-49f4-8973-ae5548764f78",
   "metadata": {},
   "outputs": [
    {
     "data": {
      "text/plain": [
       "39.225"
      ]
     },
     "execution_count": 14,
     "metadata": {},
     "output_type": "execute_result"
    }
   ],
   "source": [
    "df['Preços'].mean()"
   ]
  },
  {
   "cell_type": "code",
   "execution_count": 37,
   "id": "281a9d82-9196-4592-8911-318baab08531",
   "metadata": {},
   "outputs": [
    {
     "data": {
      "text/plain": [
       "0     O Ladrão de Raios\n",
       "2       Mar de Monstros\n",
       "4    A maldição do Titã\n",
       "5    A maldição do Titã\n",
       "Name: Titulos, dtype: object"
      ]
     },
     "execution_count": 37,
     "metadata": {},
     "output_type": "execute_result"
    }
   ],
   "source": [
    "df[df['Autores'] == 'Rick Riordan']['Titulos']"
   ]
  },
  {
   "cell_type": "code",
   "execution_count": 34,
   "id": "2714297d-9e95-47b9-8f87-cc37d7bdad30",
   "metadata": {},
   "outputs": [],
   "source": [
    "mascara = (df['Autores'] == 'Rick Riordan')"
   ]
  },
  {
   "cell_type": "code",
   "execution_count": 17,
   "id": "ee36014d-20d0-42f1-90b2-feb6acca036b",
   "metadata": {},
   "outputs": [
    {
     "data": {
      "text/html": [
       "<div>\n",
       "<style scoped>\n",
       "    .dataframe tbody tr th:only-of-type {\n",
       "        vertical-align: middle;\n",
       "    }\n",
       "\n",
       "    .dataframe tbody tr th {\n",
       "        vertical-align: top;\n",
       "    }\n",
       "\n",
       "    .dataframe thead th {\n",
       "        text-align: right;\n",
       "    }\n",
       "</style>\n",
       "<table border=\"1\" class=\"dataframe\">\n",
       "  <thead>\n",
       "    <tr style=\"text-align: right;\">\n",
       "      <th></th>\n",
       "      <th>Autores</th>\n",
       "      <th>Titulos</th>\n",
       "      <th>Preços</th>\n",
       "    </tr>\n",
       "  </thead>\n",
       "  <tbody>\n",
       "    <tr>\n",
       "      <th>0</th>\n",
       "      <td>Rick Riordan</td>\n",
       "      <td>O Ladrão de Raios</td>\n",
       "      <td>41.2</td>\n",
       "    </tr>\n",
       "    <tr>\n",
       "      <th>2</th>\n",
       "      <td>Rick Riordan</td>\n",
       "      <td>Mar de Monstros</td>\n",
       "      <td>39.5</td>\n",
       "    </tr>\n",
       "  </tbody>\n",
       "</table>\n",
       "</div>"
      ],
      "text/plain": [
       "        Autores            Titulos  Preços\n",
       "0  Rick Riordan  O Ladrão de Raios    41.2\n",
       "2  Rick Riordan    Mar de Monstros    39.5"
      ]
     },
     "execution_count": 17,
     "metadata": {},
     "output_type": "execute_result"
    }
   ],
   "source": [
    "df[mascara]"
   ]
  },
  {
   "cell_type": "code",
   "execution_count": 20,
   "id": "9ef5f1a6-1d08-4b1b-a9b2-1c7fc355e310",
   "metadata": {},
   "outputs": [
    {
     "name": "stderr",
     "output_type": "stream",
     "text": [
      "C:\\Users\\Maike William\\AppData\\Local\\Temp\\ipykernel_18820\\938778129.py:1: FutureWarning: The frame.append method is deprecated and will be removed from pandas in a future version. Use pandas.concat instead.\n",
      "  df = df.append({'Autores': 'Rick Riordan', 'Titulos': 'A maldiçã do Titâ', 'Preços': 40}, ignore_index= True)\n"
     ]
    }
   ],
   "source": [
    "df = df.append({'Autores': 'Rick Riordan', 'Titulos': 'A maldiçã do Titâ', 'Preços': 40}, ignore_index= True)"
   ]
  },
  {
   "cell_type": "code",
   "execution_count": 21,
   "id": "e66f21c5-9338-405c-9fc4-23880427d0a4",
   "metadata": {},
   "outputs": [
    {
     "data": {
      "text/html": [
       "<div>\n",
       "<style scoped>\n",
       "    .dataframe tbody tr th:only-of-type {\n",
       "        vertical-align: middle;\n",
       "    }\n",
       "\n",
       "    .dataframe tbody tr th {\n",
       "        vertical-align: top;\n",
       "    }\n",
       "\n",
       "    .dataframe thead th {\n",
       "        text-align: right;\n",
       "    }\n",
       "</style>\n",
       "<table border=\"1\" class=\"dataframe\">\n",
       "  <thead>\n",
       "    <tr style=\"text-align: right;\">\n",
       "      <th></th>\n",
       "      <th>Autores</th>\n",
       "      <th>Titulos</th>\n",
       "      <th>Preços</th>\n",
       "    </tr>\n",
       "  </thead>\n",
       "  <tbody>\n",
       "    <tr>\n",
       "      <th>0</th>\n",
       "      <td>Rick Riordan</td>\n",
       "      <td>O Ladrão de Raios</td>\n",
       "      <td>41.2</td>\n",
       "    </tr>\n",
       "    <tr>\n",
       "      <th>1</th>\n",
       "      <td>J.R.R. Tolkien</td>\n",
       "      <td>A Sociedade do Anel</td>\n",
       "      <td>35.7</td>\n",
       "    </tr>\n",
       "    <tr>\n",
       "      <th>2</th>\n",
       "      <td>Rick Riordan</td>\n",
       "      <td>Mar de Monstros</td>\n",
       "      <td>39.5</td>\n",
       "    </tr>\n",
       "    <tr>\n",
       "      <th>3</th>\n",
       "      <td>Machado de Assis</td>\n",
       "      <td>Memórias Postumas de Brás Cubas</td>\n",
       "      <td>40.5</td>\n",
       "    </tr>\n",
       "    <tr>\n",
       "      <th>4</th>\n",
       "      <td>Rick Riordan</td>\n",
       "      <td>A maldiçã do Titâ</td>\n",
       "      <td>40.0</td>\n",
       "    </tr>\n",
       "    <tr>\n",
       "      <th>5</th>\n",
       "      <td>Rick Riordan</td>\n",
       "      <td>A maldiçã do Titâ</td>\n",
       "      <td>40.0</td>\n",
       "    </tr>\n",
       "  </tbody>\n",
       "</table>\n",
       "</div>"
      ],
      "text/plain": [
       "            Autores                          Titulos  Preços\n",
       "0      Rick Riordan                O Ladrão de Raios    41.2\n",
       "1    J.R.R. Tolkien              A Sociedade do Anel    35.7\n",
       "2      Rick Riordan                  Mar de Monstros    39.5\n",
       "3  Machado de Assis  Memórias Postumas de Brás Cubas    40.5\n",
       "4      Rick Riordan                A maldiçã do Titâ    40.0\n",
       "5      Rick Riordan                A maldiçã do Titâ    40.0"
      ]
     },
     "execution_count": 21,
     "metadata": {},
     "output_type": "execute_result"
    }
   ],
   "source": [
    "df"
   ]
  },
  {
   "cell_type": "code",
   "execution_count": 26,
   "id": "68682cf0-3b31-4a33-b993-7dd1140f9b65",
   "metadata": {},
   "outputs": [],
   "source": [
    "mascara_correcao = df['Titulos'] == 'A maldiçã do Titâ'"
   ]
  },
  {
   "cell_type": "code",
   "execution_count": 31,
   "id": "7d28d38e-ef08-4a5c-b723-08d2749886e1",
   "metadata": {},
   "outputs": [],
   "source": [
    "df.loc[mascara_correcao, 'Titulos'] = 'A maldição do Titã'"
   ]
  },
  {
   "cell_type": "code",
   "execution_count": 32,
   "id": "6c90cf5a-4e83-446b-8ba3-2265427098c1",
   "metadata": {},
   "outputs": [
    {
     "data": {
      "text/html": [
       "<div>\n",
       "<style scoped>\n",
       "    .dataframe tbody tr th:only-of-type {\n",
       "        vertical-align: middle;\n",
       "    }\n",
       "\n",
       "    .dataframe tbody tr th {\n",
       "        vertical-align: top;\n",
       "    }\n",
       "\n",
       "    .dataframe thead th {\n",
       "        text-align: right;\n",
       "    }\n",
       "</style>\n",
       "<table border=\"1\" class=\"dataframe\">\n",
       "  <thead>\n",
       "    <tr style=\"text-align: right;\">\n",
       "      <th></th>\n",
       "      <th>Autores</th>\n",
       "      <th>Titulos</th>\n",
       "      <th>Preços</th>\n",
       "    </tr>\n",
       "  </thead>\n",
       "  <tbody>\n",
       "    <tr>\n",
       "      <th>0</th>\n",
       "      <td>Rick Riordan</td>\n",
       "      <td>O Ladrão de Raios</td>\n",
       "      <td>41.2</td>\n",
       "    </tr>\n",
       "    <tr>\n",
       "      <th>1</th>\n",
       "      <td>J.R.R. Tolkien</td>\n",
       "      <td>A Sociedade do Anel</td>\n",
       "      <td>35.7</td>\n",
       "    </tr>\n",
       "    <tr>\n",
       "      <th>2</th>\n",
       "      <td>Rick Riordan</td>\n",
       "      <td>Mar de Monstros</td>\n",
       "      <td>39.5</td>\n",
       "    </tr>\n",
       "    <tr>\n",
       "      <th>3</th>\n",
       "      <td>Machado de Assis</td>\n",
       "      <td>Memórias Postumas de Brás Cubas</td>\n",
       "      <td>40.5</td>\n",
       "    </tr>\n",
       "    <tr>\n",
       "      <th>4</th>\n",
       "      <td>Rick Riordan</td>\n",
       "      <td>A maldição do Titã</td>\n",
       "      <td>40.0</td>\n",
       "    </tr>\n",
       "    <tr>\n",
       "      <th>5</th>\n",
       "      <td>Rick Riordan</td>\n",
       "      <td>A maldição do Titã</td>\n",
       "      <td>40.0</td>\n",
       "    </tr>\n",
       "  </tbody>\n",
       "</table>\n",
       "</div>"
      ],
      "text/plain": [
       "            Autores                          Titulos  Preços\n",
       "0      Rick Riordan                O Ladrão de Raios    41.2\n",
       "1    J.R.R. Tolkien              A Sociedade do Anel    35.7\n",
       "2      Rick Riordan                  Mar de Monstros    39.5\n",
       "3  Machado de Assis  Memórias Postumas de Brás Cubas    40.5\n",
       "4      Rick Riordan               A maldição do Titã    40.0\n",
       "5      Rick Riordan               A maldição do Titã    40.0"
      ]
     },
     "execution_count": 32,
     "metadata": {},
     "output_type": "execute_result"
    }
   ],
   "source": [
    "df"
   ]
  },
  {
   "cell_type": "code",
   "execution_count": 38,
   "id": "4e44c660-1ad8-4b91-a461-9c60e46d522c",
   "metadata": {},
   "outputs": [],
   "source": [
    "df = df.drop(5)"
   ]
  },
  {
   "cell_type": "code",
   "execution_count": 39,
   "id": "56a53894-d289-4d64-b81b-e40e0fbef16c",
   "metadata": {},
   "outputs": [
    {
     "data": {
      "text/html": [
       "<div>\n",
       "<style scoped>\n",
       "    .dataframe tbody tr th:only-of-type {\n",
       "        vertical-align: middle;\n",
       "    }\n",
       "\n",
       "    .dataframe tbody tr th {\n",
       "        vertical-align: top;\n",
       "    }\n",
       "\n",
       "    .dataframe thead th {\n",
       "        text-align: right;\n",
       "    }\n",
       "</style>\n",
       "<table border=\"1\" class=\"dataframe\">\n",
       "  <thead>\n",
       "    <tr style=\"text-align: right;\">\n",
       "      <th></th>\n",
       "      <th>Autores</th>\n",
       "      <th>Titulos</th>\n",
       "      <th>Preços</th>\n",
       "    </tr>\n",
       "  </thead>\n",
       "  <tbody>\n",
       "    <tr>\n",
       "      <th>0</th>\n",
       "      <td>Rick Riordan</td>\n",
       "      <td>O Ladrão de Raios</td>\n",
       "      <td>41.2</td>\n",
       "    </tr>\n",
       "    <tr>\n",
       "      <th>1</th>\n",
       "      <td>J.R.R. Tolkien</td>\n",
       "      <td>A Sociedade do Anel</td>\n",
       "      <td>35.7</td>\n",
       "    </tr>\n",
       "    <tr>\n",
       "      <th>2</th>\n",
       "      <td>Rick Riordan</td>\n",
       "      <td>Mar de Monstros</td>\n",
       "      <td>39.5</td>\n",
       "    </tr>\n",
       "    <tr>\n",
       "      <th>3</th>\n",
       "      <td>Machado de Assis</td>\n",
       "      <td>Memórias Postumas de Brás Cubas</td>\n",
       "      <td>40.5</td>\n",
       "    </tr>\n",
       "    <tr>\n",
       "      <th>4</th>\n",
       "      <td>Rick Riordan</td>\n",
       "      <td>A maldição do Titã</td>\n",
       "      <td>40.0</td>\n",
       "    </tr>\n",
       "  </tbody>\n",
       "</table>\n",
       "</div>"
      ],
      "text/plain": [
       "            Autores                          Titulos  Preços\n",
       "0      Rick Riordan                O Ladrão de Raios    41.2\n",
       "1    J.R.R. Tolkien              A Sociedade do Anel    35.7\n",
       "2      Rick Riordan                  Mar de Monstros    39.5\n",
       "3  Machado de Assis  Memórias Postumas de Brás Cubas    40.5\n",
       "4      Rick Riordan               A maldição do Titã    40.0"
      ]
     },
     "execution_count": 39,
     "metadata": {},
     "output_type": "execute_result"
    }
   ],
   "source": [
    "df"
   ]
  },
  {
   "cell_type": "code",
   "execution_count": 49,
   "id": "82e2eda8-140e-4fac-81fd-dd238a24c2ec",
   "metadata": {},
   "outputs": [
    {
     "name": "stderr",
     "output_type": "stream",
     "text": [
      "C:\\Users\\Maike William\\AppData\\Local\\Temp\\ipykernel_18820\\4068296318.py:1: FutureWarning: The frame.append method is deprecated and will be removed from pandas in a future version. Use pandas.concat instead.\n",
      "  df = df.append({'Autores': 'James Dashner', 'Titulos': 'Maze Runner', 'Preços': 30}, ignore_index = True)\n"
     ]
    }
   ],
   "source": [
    "df = df.append({'Autores': 'James Dashner', 'Titulos': 'Maze Runner', 'Preços': 30}, ignore_index = True)"
   ]
  },
  {
   "cell_type": "code",
   "execution_count": 50,
   "id": "bff4c46c-a752-4421-9325-75c8f520bafc",
   "metadata": {},
   "outputs": [
    {
     "data": {
      "text/html": [
       "<div>\n",
       "<style scoped>\n",
       "    .dataframe tbody tr th:only-of-type {\n",
       "        vertical-align: middle;\n",
       "    }\n",
       "\n",
       "    .dataframe tbody tr th {\n",
       "        vertical-align: top;\n",
       "    }\n",
       "\n",
       "    .dataframe thead th {\n",
       "        text-align: right;\n",
       "    }\n",
       "</style>\n",
       "<table border=\"1\" class=\"dataframe\">\n",
       "  <thead>\n",
       "    <tr style=\"text-align: right;\">\n",
       "      <th></th>\n",
       "      <th>Autores</th>\n",
       "      <th>Titulos</th>\n",
       "      <th>Preços</th>\n",
       "      <th>Titulo</th>\n",
       "    </tr>\n",
       "  </thead>\n",
       "  <tbody>\n",
       "    <tr>\n",
       "      <th>0</th>\n",
       "      <td>Rick Riordan</td>\n",
       "      <td>O Ladrão de Raios</td>\n",
       "      <td>41.2</td>\n",
       "      <td>NaN</td>\n",
       "    </tr>\n",
       "    <tr>\n",
       "      <th>1</th>\n",
       "      <td>J.R.R. Tolkien</td>\n",
       "      <td>A Sociedade do Anel</td>\n",
       "      <td>35.7</td>\n",
       "      <td>NaN</td>\n",
       "    </tr>\n",
       "    <tr>\n",
       "      <th>2</th>\n",
       "      <td>Rick Riordan</td>\n",
       "      <td>Mar de Monstros</td>\n",
       "      <td>39.5</td>\n",
       "      <td>NaN</td>\n",
       "    </tr>\n",
       "    <tr>\n",
       "      <th>3</th>\n",
       "      <td>Machado de Assis</td>\n",
       "      <td>Memórias Postumas de Brás Cubas</td>\n",
       "      <td>40.5</td>\n",
       "      <td>NaN</td>\n",
       "    </tr>\n",
       "    <tr>\n",
       "      <th>4</th>\n",
       "      <td>Rick Riordan</td>\n",
       "      <td>A maldição do Titã</td>\n",
       "      <td>40.0</td>\n",
       "      <td>NaN</td>\n",
       "    </tr>\n",
       "    <tr>\n",
       "      <th>5</th>\n",
       "      <td>James Dashner</td>\n",
       "      <td>Maze Runner</td>\n",
       "      <td>30.0</td>\n",
       "      <td>NaN</td>\n",
       "    </tr>\n",
       "  </tbody>\n",
       "</table>\n",
       "</div>"
      ],
      "text/plain": [
       "            Autores                          Titulos  Preços Titulo\n",
       "0      Rick Riordan                O Ladrão de Raios    41.2    NaN\n",
       "1    J.R.R. Tolkien              A Sociedade do Anel    35.7    NaN\n",
       "2      Rick Riordan                  Mar de Monstros    39.5    NaN\n",
       "3  Machado de Assis  Memórias Postumas de Brás Cubas    40.5    NaN\n",
       "4      Rick Riordan               A maldição do Titã    40.0    NaN\n",
       "5     James Dashner                      Maze Runner    30.0    NaN"
      ]
     },
     "execution_count": 50,
     "metadata": {},
     "output_type": "execute_result"
    }
   ],
   "source": [
    "df"
   ]
  },
  {
   "cell_type": "code",
   "execution_count": 51,
   "id": "7caa383e-c704-464a-91f9-bc8e3fd50bdc",
   "metadata": {},
   "outputs": [
    {
     "data": {
      "text/html": [
       "<div>\n",
       "<style scoped>\n",
       "    .dataframe tbody tr th:only-of-type {\n",
       "        vertical-align: middle;\n",
       "    }\n",
       "\n",
       "    .dataframe tbody tr th {\n",
       "        vertical-align: top;\n",
       "    }\n",
       "\n",
       "    .dataframe thead th {\n",
       "        text-align: right;\n",
       "    }\n",
       "</style>\n",
       "<table border=\"1\" class=\"dataframe\">\n",
       "  <thead>\n",
       "    <tr style=\"text-align: right;\">\n",
       "      <th></th>\n",
       "      <th>Autores</th>\n",
       "      <th>Titulos</th>\n",
       "      <th>Preços</th>\n",
       "    </tr>\n",
       "  </thead>\n",
       "  <tbody>\n",
       "    <tr>\n",
       "      <th>0</th>\n",
       "      <td>Rick Riordan</td>\n",
       "      <td>O Ladrão de Raios</td>\n",
       "      <td>41.2</td>\n",
       "    </tr>\n",
       "    <tr>\n",
       "      <th>1</th>\n",
       "      <td>J.R.R. Tolkien</td>\n",
       "      <td>A Sociedade do Anel</td>\n",
       "      <td>35.7</td>\n",
       "    </tr>\n",
       "    <tr>\n",
       "      <th>2</th>\n",
       "      <td>Rick Riordan</td>\n",
       "      <td>Mar de Monstros</td>\n",
       "      <td>39.5</td>\n",
       "    </tr>\n",
       "    <tr>\n",
       "      <th>3</th>\n",
       "      <td>Machado de Assis</td>\n",
       "      <td>Memórias Postumas de Brás Cubas</td>\n",
       "      <td>40.5</td>\n",
       "    </tr>\n",
       "    <tr>\n",
       "      <th>4</th>\n",
       "      <td>Rick Riordan</td>\n",
       "      <td>A maldição do Titã</td>\n",
       "      <td>40.0</td>\n",
       "    </tr>\n",
       "    <tr>\n",
       "      <th>5</th>\n",
       "      <td>James Dashner</td>\n",
       "      <td>Maze Runner</td>\n",
       "      <td>30.0</td>\n",
       "    </tr>\n",
       "  </tbody>\n",
       "</table>\n",
       "</div>"
      ],
      "text/plain": [
       "            Autores                          Titulos  Preços\n",
       "0      Rick Riordan                O Ladrão de Raios    41.2\n",
       "1    J.R.R. Tolkien              A Sociedade do Anel    35.7\n",
       "2      Rick Riordan                  Mar de Monstros    39.5\n",
       "3  Machado de Assis  Memórias Postumas de Brás Cubas    40.5\n",
       "4      Rick Riordan               A maldição do Titã    40.0\n",
       "5     James Dashner                      Maze Runner    30.0"
      ]
     },
     "execution_count": 51,
     "metadata": {},
     "output_type": "execute_result"
    }
   ],
   "source": [
    "df.drop(columns=['Titulo'])"
   ]
  },
  {
   "cell_type": "code",
   "execution_count": null,
   "id": "93b70224-070e-4899-b2eb-e23ca4adaf64",
   "metadata": {},
   "outputs": [],
   "source": []
  }
 ],
 "metadata": {
  "kernelspec": {
   "display_name": "Python 3 (ipykernel)",
   "language": "python",
   "name": "python3"
  },
  "language_info": {
   "codemirror_mode": {
    "name": "ipython",
    "version": 3
   },
   "file_extension": ".py",
   "mimetype": "text/x-python",
   "name": "python",
   "nbconvert_exporter": "python",
   "pygments_lexer": "ipython3",
   "version": "3.11.0"
  }
 },
 "nbformat": 4,
 "nbformat_minor": 5
}
