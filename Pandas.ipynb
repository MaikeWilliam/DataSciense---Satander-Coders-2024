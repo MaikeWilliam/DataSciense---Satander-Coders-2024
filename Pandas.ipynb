{
 "cells": [
  {
   "cell_type": "code",
   "execution_count": 1,
   "id": "bb2d815c-c71f-410e-ba11-ebb17df85828",
   "metadata": {},
   "outputs": [],
   "source": [
    "import pandas as pd"
   ]
  },
  {
   "cell_type": "code",
   "execution_count": 2,
   "id": "c592ef47-86bb-4cdd-b907-03d6d255cffe",
   "metadata": {},
   "outputs": [],
   "source": [
    "lista = [12, 23, 34, 45, 56, 67]\n",
    "\n",
    "serie_pandas = pd.Series(lista)"
   ]
  },
  {
   "cell_type": "code",
   "execution_count": 4,
   "id": "effbc8a1-4e9b-4e26-af86-efe6c1b14242",
   "metadata": {},
   "outputs": [
    {
     "name": "stdout",
     "output_type": "stream",
     "text": [
      "34\n"
     ]
    }
   ],
   "source": [
    "print(serie_pandas[2])"
   ]
  },
  {
   "cell_type": "code",
   "execution_count": 5,
   "id": "e565f598-a18f-401d-b4c9-f36e0ba08cbc",
   "metadata": {},
   "outputs": [],
   "source": [
    "notas = {\"Maike\": 9, \"Guilherme\": 9.7, \"João\": 9.9}\n",
    "\n",
    "serie_notas = pd.Series(notas)"
   ]
  },
  {
   "cell_type": "code",
   "execution_count": 6,
   "id": "6e605d90-262c-460e-ab87-db8aa3805c9f",
   "metadata": {},
   "outputs": [
    {
     "name": "stdout",
     "output_type": "stream",
     "text": [
      "Maike        9.0\n",
      "Guilherme    9.7\n",
      "João         9.9\n",
      "dtype: float64\n"
     ]
    }
   ],
   "source": [
    "print(serie_notas)"
   ]
  },
  {
   "cell_type": "code",
   "execution_count": 7,
   "id": "4538aef5-6d00-4144-94e2-19c6c75d7e09",
   "metadata": {},
   "outputs": [
    {
     "name": "stdout",
     "output_type": "stream",
     "text": [
      "9.7\n"
     ]
    }
   ],
   "source": [
    "print(serie_notas.median())"
   ]
  },
  {
   "cell_type": "code",
   "execution_count": 8,
   "id": "c98278ec-84f6-45f2-9cc2-1e50c7163ce7",
   "metadata": {},
   "outputs": [
    {
     "name": "stdout",
     "output_type": "stream",
     "text": [
      "count    3.000000\n",
      "mean     9.533333\n",
      "std      0.472582\n",
      "min      9.000000\n",
      "25%      9.350000\n",
      "50%      9.700000\n",
      "75%      9.800000\n",
      "max      9.900000\n",
      "dtype: float64\n"
     ]
    }
   ],
   "source": [
    "print(serie_notas.describe())"
   ]
  },
  {
   "cell_type": "code",
   "execution_count": null,
   "id": "698b652b-7ce3-4910-8fdc-2144ac70a95b",
   "metadata": {},
   "outputs": [],
   "source": []
  }
 ],
 "metadata": {
  "kernelspec": {
   "display_name": "Python 3 (ipykernel)",
   "language": "python",
   "name": "python3"
  },
  "language_info": {
   "codemirror_mode": {
    "name": "ipython",
    "version": 3
   },
   "file_extension": ".py",
   "mimetype": "text/x-python",
   "name": "python",
   "nbconvert_exporter": "python",
   "pygments_lexer": "ipython3",
   "version": "3.11.0"
  }
 },
 "nbformat": 4,
 "nbformat_minor": 5
}
