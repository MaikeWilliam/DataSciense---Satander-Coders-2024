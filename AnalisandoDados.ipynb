{
 "cells": [
  {
   "cell_type": "code",
   "execution_count": 1,
   "id": "fdfdfe5c-51a7-4c97-98c6-e147db0fa679",
   "metadata": {},
   "outputs": [],
   "source": [
    "import pandas as pd"
   ]
  },
  {
   "cell_type": "code",
   "execution_count": 1,
   "id": "57b2a9ee-5d9f-4507-9bdf-f43dedfc9dd4",
   "metadata": {},
   "outputs": [
    {
     "ename": "NameError",
     "evalue": "name 'pd' is not defined",
     "output_type": "error",
     "traceback": [
      "\u001b[1;31m---------------------------------------------------------------------------\u001b[0m",
      "\u001b[1;31mNameError\u001b[0m                                 Traceback (most recent call last)",
      "Cell \u001b[1;32mIn[1], line 1\u001b[0m\n\u001b[1;32m----> 1\u001b[0m taxis \u001b[38;5;241m=\u001b[39m \u001b[43mpd\u001b[49m\u001b[38;5;241m.\u001b[39mread_csv(\u001b[38;5;124m'\u001b[39m\u001b[38;5;124mtaxis.csv\u001b[39m\u001b[38;5;124m'\u001b[39m)\n",
      "\u001b[1;31mNameError\u001b[0m: name 'pd' is not defined"
     ]
    }
   ],
   "source": [
    "taxis = pd.read_csv('taxis.csv')"
   ]
  },
  {
   "cell_type": "code",
   "execution_count": null,
   "id": "dd5cbe5d-be00-417d-9fd0-bef939746593",
   "metadata": {},
   "outputs": [],
   "source": [
    "taxis.head() #traz as 5 primeiras linhas"
   ]
  },
  {
   "cell_type": "code",
   "execution_count": null,
   "id": "b27d74cf-c8be-4da5-a461-5b7d03baa4d4",
   "metadata": {},
   "outputs": [],
   "source": [
    "taxis[dropoff_borough].value_counts()"
   ]
  },
  {
   "cell_type": "code",
   "execution_count": null,
   "id": "43f5470b-a784-462f-a300-f8b9e1bc7f78",
   "metadata": {},
   "outputs": [],
   "source": [
    "# Vizinhanças em que as casas costumam ser mais caras, oferecem melhores gorgetas?\n",
    "\n",
    "taxis.groupby([\"dropoff_borough\"])['tip'].agg(['mean', 'median'])"
   ]
  },
  {
   "cell_type": "code",
   "execution_count": null,
   "id": "14b91b15-02df-4f26-be3d-715b709eea41",
   "metadata": {},
   "outputs": [],
   "source": []
  }
 ],
 "metadata": {
  "kernelspec": {
   "display_name": "Python 3 (ipykernel)",
   "language": "python",
   "name": "python3"
  },
  "language_info": {
   "codemirror_mode": {
    "name": "ipython",
    "version": 3
   },
   "file_extension": ".py",
   "mimetype": "text/x-python",
   "name": "python",
   "nbconvert_exporter": "python",
   "pygments_lexer": "ipython3",
   "version": "3.11.0"
  }
 },
 "nbformat": 4,
 "nbformat_minor": 5
}
