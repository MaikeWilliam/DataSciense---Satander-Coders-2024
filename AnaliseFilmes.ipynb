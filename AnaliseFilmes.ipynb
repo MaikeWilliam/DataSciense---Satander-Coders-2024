{
 "cells": [
  {
   "cell_type": "code",
   "execution_count": null,
   "id": "b70a2f42-a488-4a83-aa6f-5205648176bd",
   "metadata": {},
   "outputs": [],
   "source": [
    "https://www.kaggle.com/code/ruchi798/movies-and-tv-shows-eda\n",
    "\n",
    "https://www.kaggle.com/code/shivamb/netflix-shows-and-movies-exploratory-analysis/comments"
   ]
  }
 ],
 "metadata": {
  "kernelspec": {
   "display_name": "Python 3 (ipykernel)",
   "language": "python",
   "name": "python3"
  },
  "language_info": {
   "codemirror_mode": {
    "name": "ipython",
    "version": 3
   },
   "file_extension": ".py",
   "mimetype": "text/x-python",
   "name": "python",
   "nbconvert_exporter": "python",
   "pygments_lexer": "ipython3",
   "version": "3.11.0"
  }
 },
 "nbformat": 4,
 "nbformat_minor": 5
}
