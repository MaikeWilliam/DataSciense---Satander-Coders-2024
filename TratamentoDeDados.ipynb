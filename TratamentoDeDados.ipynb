{
 "cells": [
  {
   "cell_type": "code",
   "execution_count": null,
   "id": "e1f4dafe-7939-4f45-83cc-8abb2ae3a152",
   "metadata": {},
   "outputs": [],
   "source": [
    "import pandas as pd"
   ]
  },
  {
   "cell_type": "code",
   "execution_count": null,
   "id": "6f3b1225-7a70-4225-88ad-fc17fb6e43de",
   "metadata": {},
   "outputs": [],
   "source": [
    "%pip install openyxl"
   ]
  },
  {
   "cell_type": "code",
   "execution_count": null,
   "id": "ea1e0a89-9882-49cd-b320-40417f6c91bd",
   "metadata": {},
   "outputs": [],
   "source": [
    "df = pd.read_excel('Sao_paulo.xlsx')"
   ]
  },
  {
   "cell_type": "code",
   "execution_count": null,
   "id": "f3cc2aad-2436-47b2-bb9e-0e7b6daae7da",
   "metadata": {},
   "outputs": [],
   "source": [
    "auxiliar = df.loc[10031]"
   ]
  },
  {
   "cell_type": "code",
   "execution_count": null,
   "id": "ef8249ac-fcc5-4aaf-b49c-77d8473cb261",
   "metadata": {},
   "outputs": [],
   "source": [
    "def limpa_preco(linha):\n",
    "    linha['price'] = linha['price'].replace('R$ ', '')\n",
    "    linha['price'] = linha['price'].replace('\\n', '')\n",
    "    linha['price'] = linha['price'].replace('/Mês', '')\n",
    "    linha['price'] = linha['price'].replace('                   ', '')\n",
    "    return linha"
   ]
  },
  {
   "cell_type": "code",
   "execution_count": null,
   "id": "71da2146-cd7a-40bf-8b9b-8ecb516d1854",
   "metadata": {},
   "outputs": [],
   "source": [
    "# axis=1 corresponde as linhas e o 0 as colunas\n",
    "# x sendo as linhas do DataFrame\n",
    "\n",
    "df.apply(lambda x: limpa_preco(x), axis=1)"
   ]
  },
  {
   "cell_type": "code",
   "execution_count": null,
   "id": "6dd715fb-bec5-4a30-bfc5-9fcecd1987f7",
   "metadata": {},
   "outputs": [],
   "source": [
    "def ajusta_alugueis(linha):\n",
    "    linha['price'] = linha['price'].replace('.', '')\n",
    "    preco = int(linha['price'])\n",
    "    if(preco < 10000):\n",
    "        preco = preco * 200\n",
    "    linha['price'] = preco\n",
    "    return linha"
   ]
  },
  {
   "cell_type": "code",
   "execution_count": null,
   "id": "b73ebcf5-7503-453f-898a-37bcc28b5cad",
   "metadata": {},
   "outputs": [],
   "source": [
    "def ajusta_aluguel_ano(linha):\n",
    "    if(linha[\"price\"].str.contains(\"/Ano\"))\n",
    "        linha[\"price\"] = linha[\"price\"].replace(\"/Ano\", \"\")\n",
    "        preco = int(linha[\"price\"])\n",
    "        preco = (preco/12)*200\n",
    "        linha[\"price\"] = preco\n",
    "    return linha"
   ]
  },
  {
   "cell_type": "code",
   "execution_count": null,
   "id": "ee16eb89-3b11-42cd-b795-4d977523eb2a",
   "metadata": {},
   "outputs": [],
   "source": [
    "df.apply(lambda x: ajusta_alugueis(x), axis=1)\n",
    "df.apply(lambda x: ajusta_aluguel_ano(x), axis=1)"
   ]
  }
 ],
 "metadata": {
  "kernelspec": {
   "display_name": "Python 3 (ipykernel)",
   "language": "python",
   "name": "python3"
  },
  "language_info": {
   "codemirror_mode": {
    "name": "ipython",
    "version": 3
   },
   "file_extension": ".py",
   "mimetype": "text/x-python",
   "name": "python",
   "nbconvert_exporter": "python",
   "pygments_lexer": "ipython3",
   "version": "3.11.0"
  }
 },
 "nbformat": 4,
 "nbformat_minor": 5
}
