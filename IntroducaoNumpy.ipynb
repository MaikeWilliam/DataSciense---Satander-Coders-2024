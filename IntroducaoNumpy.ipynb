{
 "cells": [
  {
   "cell_type": "code",
   "execution_count": 1,
   "id": "d7b520bf-e11f-43cf-9ebe-04937ee497f9",
   "metadata": {},
   "outputs": [],
   "source": [
    "import numpy as np"
   ]
  },
  {
   "cell_type": "code",
   "execution_count": 2,
   "id": "7ad41c40-077b-4845-989a-d8edc1e1df2c",
   "metadata": {},
   "outputs": [],
   "source": [
    "#Arrays\n",
    "\n",
    "lista = [1, 2, 3, 4, 5, 6]\n",
    "\n",
    "array = np.array(lista)"
   ]
  },
  {
   "cell_type": "code",
   "execution_count": 4,
   "id": "063f904a-14f0-40ab-b8a4-16964bbb377d",
   "metadata": {},
   "outputs": [
    {
     "name": "stdout",
     "output_type": "stream",
     "text": [
      "<class 'list'>\n",
      "<class 'numpy.ndarray'>\n"
     ]
    }
   ],
   "source": [
    "print(type(lista))\n",
    "print(type(array))"
   ]
  },
  {
   "cell_type": "code",
   "execution_count": 5,
   "id": "587e418a-8596-4b5f-b4bf-45d16cc017c6",
   "metadata": {},
   "outputs": [
    {
     "name": "stdout",
     "output_type": "stream",
     "text": [
      "[0. 0. 0. 0. 0. 0. 0. 0. 0. 0.]\n"
     ]
    }
   ],
   "source": [
    "arr_zeros = np.zeros(10)\n",
    "\n",
    "print(arr_zeros)"
   ]
  },
  {
   "cell_type": "code",
   "execution_count": 6,
   "id": "ec4ff03b-a0c0-4d99-a39b-8d851878f74a",
   "metadata": {},
   "outputs": [
    {
     "name": "stdout",
     "output_type": "stream",
     "text": [
      "[9 2 3 4 5 6]\n"
     ]
    }
   ],
   "source": [
    "array[0] = 9\n",
    "print(array)"
   ]
  },
  {
   "cell_type": "code",
   "execution_count": 7,
   "id": "6f4d5c3e-4adf-4b64-91cc-18a2b4cc80c9",
   "metadata": {},
   "outputs": [
    {
     "name": "stdout",
     "output_type": "stream",
     "text": [
      "[[0. 0. 0.]\n",
      " [0. 0. 0.]\n",
      " [0. 0. 0.]\n",
      " [0. 0. 0.]\n",
      " [0. 0. 0.]]\n"
     ]
    }
   ],
   "source": [
    "#Matrizes\n",
    "matrizes_zeros = np.zeros((5,3))\n",
    "print(matrizes_zeros)"
   ]
  },
  {
   "cell_type": "code",
   "execution_count": 8,
   "id": "61d4731d-9c60-4bf6-be17-9dddc8050c4f",
   "metadata": {},
   "outputs": [],
   "source": [
    "#Notas alunos\n",
    "\n",
    "listaDeNotas = [9.8, 5.6, 7.8, 9.1, 6,5]\n",
    "\n",
    "notas = np.array(listaDeNotas)"
   ]
  },
  {
   "cell_type": "code",
   "execution_count": 9,
   "id": "6ffa716b-2f0d-408e-b114-60fc453f9013",
   "metadata": {},
   "outputs": [
    {
     "name": "stdout",
     "output_type": "stream",
     "text": [
      "Maximo 9.8\n",
      "Minimo 5.0\n",
      "Desvio Padrao 1.805931584775262\n",
      "Media 7.216666666666666\n",
      "Posicao Menor 5\n"
     ]
    }
   ],
   "source": [
    "print(\"Maximo\", notas.max())\n",
    "print(\"Minimo\", notas.min())\n",
    "print(\"Desvio Padrao\", notas.std())\n",
    "print(\"Media\", notas.mean())\n",
    "print(\"Posicao Menor\", notas.argmin())"
   ]
  },
  {
   "cell_type": "code",
   "execution_count": 34,
   "id": "ab47887f-1a9e-4644-95c1-5aea6981eb27",
   "metadata": {},
   "outputs": [
    {
     "name": "stdin",
     "output_type": "stream",
     "text": [
      "Escreva 1 número:  1\n",
      "Escreva 1 número:  2\n",
      "Escreva 1 número:  3\n",
      "Escreva 1 número:  4\n",
      "Escreva 1 número:  5\n",
      "Escreva 1 número:  6\n",
      "Escreva 1 número:  7\n",
      "Escreva 1 número:  8\n",
      "Escreva 1 número:  9\n"
     ]
    }
   ],
   "source": [
    "#Peça pro usuario digitar 9 números e faça algumas operações\n",
    "\n",
    "listaNotas = []\n",
    "\n",
    "for i in range(9):\n",
    "    listaNotas.append(int(input(\"Escreva 1 número: \")))"
   ]
  },
  {
   "cell_type": "code",
   "execution_count": 35,
   "id": "12d0fac9-8367-4f2c-b173-62ee89fff70f",
   "metadata": {},
   "outputs": [
    {
     "name": "stdout",
     "output_type": "stream",
     "text": [
      "[1, 2, 3, 4, 5, 6, 7, 8, 9]\n"
     ]
    }
   ],
   "source": [
    "print(listaNotas)"
   ]
  },
  {
   "cell_type": "code",
   "execution_count": 36,
   "id": "20aae622-a29b-4fbe-8c48-036f2b5ab9d4",
   "metadata": {},
   "outputs": [],
   "source": [
    "notasAlunos = np.array(listaNotas)\n",
    "\n",
    "#notasAlunosInteiro = notasAlunos.astype(int)\n",
    "#print(notasAlunosInteiro)"
   ]
  },
  {
   "cell_type": "code",
   "execution_count": 37,
   "id": "525e9677-9a50-4517-9666-8b1e4b7b47f5",
   "metadata": {},
   "outputs": [
    {
     "name": "stdout",
     "output_type": "stream",
     "text": [
      "Maior nota:  9\n",
      "Menor nota: 1\n",
      "Desvio Padrao 2.581988897471611\n",
      "Media 5.0\n",
      "Posicao Menor 0\n",
      "Posicao Maior 8\n"
     ]
    }
   ],
   "source": [
    "print(\"Maior nota: \", notasAlunos.max())\n",
    "print(\"Menor nota:\", notasAlunos.min())\n",
    "print(\"Desvio Padrao\", notasAlunos.std())\n",
    "print(\"Media\", notasAlunos.mean())\n",
    "print(\"Posicao Menor\", notasAlunos.argmin())\n",
    "print(\"Posicao Maior\", notasAlunos.argmax())"
   ]
  },
  {
   "cell_type": "code",
   "execution_count": null,
   "id": "596909f8-84fa-4169-84fe-c2165e9dc2d4",
   "metadata": {},
   "outputs": [],
   "source": []
  }
 ],
 "metadata": {
  "kernelspec": {
   "display_name": "Python 3 (ipykernel)",
   "language": "python",
   "name": "python3"
  },
  "language_info": {
   "codemirror_mode": {
    "name": "ipython",
    "version": 3
   },
   "file_extension": ".py",
   "mimetype": "text/x-python",
   "name": "python",
   "nbconvert_exporter": "python",
   "pygments_lexer": "ipython3",
   "version": "3.11.0"
  }
 },
 "nbformat": 4,
 "nbformat_minor": 5
}
