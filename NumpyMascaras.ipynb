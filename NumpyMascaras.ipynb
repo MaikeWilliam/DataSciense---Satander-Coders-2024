{
 "cells": [
  {
   "cell_type": "code",
   "execution_count": 17,
   "id": "518cfc0f-498e-4eb2-b032-60a0b9494cce",
   "metadata": {},
   "outputs": [],
   "source": [
    "import numpy as np"
   ]
  },
  {
   "cell_type": "code",
   "execution_count": 18,
   "id": "574f1dcb-283b-41ae-8cee-ae7129fcb266",
   "metadata": {},
   "outputs": [],
   "source": [
    "is_covid_positive = np.array(['Yes', 'No', 'No', 'Yes', 'Yes', 'No'])"
   ]
  },
  {
   "cell_type": "code",
   "execution_count": 19,
   "id": "80ee30b3-220d-4710-bf4a-23ee6d9f5c35",
   "metadata": {},
   "outputs": [],
   "source": [
    "mask = (is_covid_positive == 'Yes')"
   ]
  },
  {
   "cell_type": "code",
   "execution_count": 20,
   "id": "008e777b-8b01-4476-bba9-a95d4174b55d",
   "metadata": {},
   "outputs": [
    {
     "name": "stdout",
     "output_type": "stream",
     "text": [
      "['C19' 'No' 'No' 'C19' 'C19' 'No']\n"
     ]
    }
   ],
   "source": [
    "is_covid_positive[mask] = 'C19'\n",
    "print(is_covid_positive)"
   ]
  },
  {
   "cell_type": "code",
   "execution_count": 21,
   "id": "8e023a62-a116-4438-b58a-510837505137",
   "metadata": {},
   "outputs": [
    {
     "name": "stdout",
     "output_type": "stream",
     "text": [
      "[False  True False  True]\n"
     ]
    }
   ],
   "source": [
    "notas = np.array([4.9, 6.5, 3.2, 6.7])\n",
    "mask_notas = notas >= 5\n",
    "print(mask_notas)"
   ]
  },
  {
   "cell_type": "code",
   "execution_count": 22,
   "id": "9932492f-4c2b-4805-acc6-c5a8741c4cb3",
   "metadata": {},
   "outputs": [
    {
     "name": "stdout",
     "output_type": "stream",
     "text": [
      "[ True False  True  True False]\n"
     ]
    }
   ],
   "source": [
    "notasAlunos = np.array([2.5, 9.0, 5.6, 6.9, 8.5])\n",
    "\n",
    "mask_notas_alunos = notasAlunos < 7\n",
    "print(mask_notas_alunos)"
   ]
  },
  {
   "cell_type": "code",
   "execution_count": 23,
   "id": "89313e14-76d7-4f01-9b05-ce73c755789c",
   "metadata": {},
   "outputs": [],
   "source": [
    "alunosReprovados = []\n",
    "for nota in notasAlunos[mask_notas_alunos]:\n",
    "    alunosReprovados.append(nota)\n",
    "\n",
    "notasReprovados = np.array(alunosReprovados)"
   ]
  },
  {
   "cell_type": "code",
   "execution_count": 24,
   "id": "8fbdcf49-d54c-46f3-adb0-91b328ca6cfb",
   "metadata": {},
   "outputs": [
    {
     "name": "stdout",
     "output_type": "stream",
     "text": [
      "[2.5 5.6 6.9]\n"
     ]
    }
   ],
   "source": [
    "print(notasReprovados)"
   ]
  }
 ],
 "metadata": {
  "kernelspec": {
   "display_name": "Python 3 (ipykernel)",
   "language": "python",
   "name": "python3"
  },
  "language_info": {
   "codemirror_mode": {
    "name": "ipython",
    "version": 3
   },
   "file_extension": ".py",
   "mimetype": "text/x-python",
   "name": "python",
   "nbconvert_exporter": "python",
   "pygments_lexer": "ipython3",
   "version": "3.11.0"
  }
 },
 "nbformat": 4,
 "nbformat_minor": 5
}
